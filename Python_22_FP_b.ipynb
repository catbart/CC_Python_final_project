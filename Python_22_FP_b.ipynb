{
  "nbformat": 4,
  "nbformat_minor": 0,
  "metadata": {
    "colab": {
      "provenance": [],
      "authorship_tag": "ABX9TyOUsAwrgwgN/dO6pNajJgTd",
      "include_colab_link": true
    },
    "kernelspec": {
      "name": "python3",
      "display_name": "Python 3"
    },
    "language_info": {
      "name": "python"
    }
  },
  "cells": [
    {
      "cell_type": "markdown",
      "metadata": {
        "id": "view-in-github",
        "colab_type": "text"
      },
      "source": [
        "<a href=\"https://colab.research.google.com/github/catbart/CC_Python_final_project/blob/main/Python_22_FP_b.ipynb\" target=\"_parent\"><img src=\"https://colab.research.google.com/assets/colab-badge.svg\" alt=\"Open In Colab\"/></a>"
      ]
    },
    {
      "cell_type": "markdown",
      "source": [
        "This program imports US AP Computer Science (AP CS) gender and race data for years 2008-2013 and outputs statistical data for different sub-categories."
      ],
      "metadata": {
        "id": "lAbiWew4c8mL"
      }
    },
    {
      "cell_type": "code",
      "execution_count": 7,
      "metadata": {
        "id": "bmG56uCsJzA-"
      },
      "outputs": [],
      "source": [
        "# this script reads in data from a CSV file, separates the data into two files; 1. containing data on states collectively and, 2. overall national data.\n",
        "\n",
        "import pandas as pd\n",
        "from matplotlib import pyplot as plt\n",
        "\n",
        "df = pd.read_csv('https://raw.githubusercontent.com/catbart/CC_Python_final_project/main/CS_by_Gender_Race_08_13.csv',na_values='_' )\n",
        "data = df[14:]\n",
        "nat_cs_stat = df[0:6:]\n",
        "nat_calc_stat = df[7:12:]\n",
        "\n",
        "#print('National AP CS Total Number: ','\\n',nat_cs_stat[\"Total Num\"], '\\n','\\n', 'National AP Calc Total Number: ','\\n', nat_calc_stat[\"Total Num\"])"
      ]
    },
    {
      "cell_type": "code",
      "source": [
        "# this script defines a function that performs and prints statistical data on input variables (columns in a larger set)\n",
        "\n",
        "def data_stats(dat_col):\n",
        "  print(dat_col)\n",
        "\n",
        "  print('Mean:', data[dat_col].mean())\n",
        "  print('Median:', data[dat_col].median())\n",
        "  print('Maximum:', data[dat_col].max())\n",
        "  print('Minimum:', data[dat_col].min())\n",
        "  print('\\n')\n"
      ],
      "metadata": {
        "id": "9ImEG_AmJLi-"
      },
      "execution_count": 9,
      "outputs": []
    },
    {
      "cell_type": "code",
      "source": [
        "# this script calls the function data_stats for various columns in the data frame\n",
        "\n",
        "print(\"All states, years 2008-2013 Statistics\")\n",
        "print('\\n')\n",
        "data_stats(\"Pct passed\")\n",
        "data_stats(\"Pct female passed\")\n",
        "data_stats(\"Pct Black passed\")\n",
        "data_stats(\"Pct Hispanic passed\")\n",
        "data_stats(\"yield per teacher\")"
      ],
      "metadata": {
        "colab": {
          "base_uri": "https://localhost:8080/"
        },
        "id": "28v_TSS-c5Cl",
        "outputId": "43dd318d-6f8a-4c0b-df0b-faa2d9940f59"
      },
      "execution_count": 10,
      "outputs": [
        {
          "output_type": "stream",
          "name": "stdout",
          "text": [
            "All states, years 2008-2013 Statistics\n",
            "\n",
            "\n",
            "Pct passed\n",
            "Mean: 0.6109941696509433\n",
            "Median: 0.6165530800000001\n",
            "Maximum: 0.869565217\n",
            "Minimum: 0.287671233\n",
            "\n",
            "\n",
            "Pct female passed\n",
            "Mean: 0.5488586075849057\n",
            "Median: 0.56712048\n",
            "Maximum: 0.891891892\n",
            "Minimum: 0.111111111\n",
            "\n",
            "\n",
            "Pct Black passed\n",
            "Mean: 0.30614700513978493\n",
            "Median: 0.282051282\n",
            "Maximum: 0.75\n",
            "Minimum: 0.0\n",
            "\n",
            "\n",
            "Pct Hispanic passed\n",
            "Mean: 0.3817474600754717\n",
            "Median: 0.392857143\n",
            "Maximum: 1.0\n",
            "Minimum: 0.0\n",
            "\n",
            "\n",
            "yield per teacher\n",
            "Mean: 10.536647797490566\n",
            "Median: 10.615876435\n",
            "Maximum: 23.52606635\n",
            "Minimum: 4.0\n",
            "\n",
            "\n"
          ]
        }
      ]
    }
  ]
}